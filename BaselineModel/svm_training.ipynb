{
 "cells": [
  {
   "cell_type": "code",
   "execution_count": 12,
   "metadata": {},
   "outputs": [],
   "source": [
    "import numpy as np\n",
    "\n",
    "def load_data():\n",
    "    \n",
    "    training = {}\n",
    "    validation = {}\n",
    "    test = {}\n",
    "\n",
    "    training['X'] = np.load('./ProcessedData/train/hog_features.npy')\n",
    "    training['Y'] = np.load('./ProcessedData/train/emotion_classes.npy')\n",
    "    \n",
    "    validation['X'] = np.load('./ProcessedData/validate/hog_features.npy')\n",
    "    validation['Y'] = np.load('./ProcessedData/validate/emotion_classes.npy')\n",
    "   \n",
    "    test['X'] = np.load('./ProcessedData/test/hog_features.npy')\n",
    "    test['Y'] = np.load('./ProcessedData/test/emotion_classes.npy')\n",
    "\n",
    "    return training, validation, test"
   ]
  },
  {
   "cell_type": "code",
   "execution_count": 34,
   "metadata": {},
   "outputs": [],
   "source": [
    "from sklearn.svm import SVC\n",
    "from sklearn.metrics import accuracy_score\n",
    "import pickle\n",
    "\n",
    "def evaluate(model, X, Y):\n",
    "        predicted_Y = model.predict(X)\n",
    "        accuracy = accuracy_score(Y, predicted_Y)\n",
    "        return accuracy\n",
    "\n",
    "def train(epochs=10000, random_state=0, kernel='rbf', decision_function='ovr', gamma='auto', training=True):\n",
    "        training, validation, test = load_data()\n",
    "    \n",
    "        if training:\n",
    "            model = SVC(random_state=random_state, max_iter=epochs, kernel=kernel, decision_function_shape=decision_function, gamma=gamma)\n",
    "            model.fit(training['X'], training['Y'])\n",
    "        \n",
    "            with open('./model.bin', 'wb') as f:\n",
    "                pickle.dump(model, f)\n",
    "        \n",
    "            return evaluate(model, validation['X'], validation['Y'])\n",
    "        else:\n",
    "            with open('./model.bin', 'rb') as f:\n",
    "                    model = pickle.load(f)\n",
    "                    \n",
    "            return evaluate(model, test['X'], test['Y'])"
   ]
  },
  {
   "cell_type": "code",
   "execution_count": 36,
   "metadata": {},
   "outputs": [
    {
     "data": {
      "text/plain": [
       "0.2774968394437421"
      ]
     },
     "execution_count": 36,
     "metadata": {},
     "output_type": "execute_result"
    }
   ],
   "source": [
    "# need to tune params\n",
    "\n",
    "train()"
   ]
  }
 ],
 "metadata": {
  "kernelspec": {
   "display_name": "Python 3",
   "language": "python",
   "name": "python3"
  },
  "language_info": {
   "codemirror_mode": {
    "name": "ipython",
    "version": 3
   },
   "file_extension": ".py",
   "mimetype": "text/x-python",
   "name": "python",
   "nbconvert_exporter": "python",
   "pygments_lexer": "ipython3",
   "version": "3.7.4"
  }
 },
 "nbformat": 4,
 "nbformat_minor": 4
}
