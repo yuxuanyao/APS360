{
 "cells": [
  {
   "cell_type": "code",
   "execution_count": 1,
   "metadata": {},
   "outputs": [],
   "source": [
    "import numpy as np\n",
    "\n",
    "def load_data():\n",
    "    \n",
    "    training = {}\n",
    "    validation = {}\n",
    "    test = {}\n",
    "\n",
    "    training['X'] = np.load('./ProcessedData/train/hog_features.npy')\n",
    "    training['Y'] = np.load('./ProcessedData/train/labels.npy')\n",
    "    \n",
    "    validation['X'] = np.load('./ProcessedData/validate/hog_features.npy')\n",
    "    validation['Y'] = np.load('./ProcessedData/validate/labels.npy')\n",
    "   \n",
    "    test['X'] = np.load('./ProcessedData/test/hog_features.npy')\n",
    "    test['Y'] = np.load('./ProcessedData/test/labels.npy')\n",
    "\n",
    "    return training, validation, test"
   ]
  },
  {
   "cell_type": "code",
   "execution_count": 5,
   "metadata": {},
   "outputs": [],
   "source": [
    "from sklearn.svm import SVC\n",
    "from sklearn.metrics import accuracy_score\n",
    "\n",
    "def evaluate(model, X, Y):\n",
    "        predicted_Y = model.predict(X)\n",
    "        accuracy = accuracy_score(Y, predicted_Y)\n",
    "        return accuracy\n",
    "\n",
    "def train(epochs=300, random_state=0, kernel='rbf', decision_function='ovr', gamma='auto', train_model=True):\n",
    "        training, validation, test = load_data()\n",
    "    \n",
    "        if train_model:\n",
    "            model = SVC(random_state=random_state, max_iter=epochs, kernel=kernel, decision_function_shape=decision_function, gamma=gamma)\n",
    "            model.fit(training['X'], training['Y'])\n",
    "        \n",
    "            with open('./model.bin', 'wb') as f:\n",
    "                pickle.dump(model, f)\n",
    "        \n",
    "            return evaluate(model, validation['X'], validation['Y'])\n",
    "        else:\n",
    "            with open('./model.bin', 'rb') as f:\n",
    "                    model = pickle.load(f)\n",
    "                    \n",
    "            return evaluate(model, test['X'], test['Y'])"
   ]
  }
 ],
 "metadata": {
  "kernelspec": {
   "display_name": "Python 3",
   "language": "python",
   "name": "python3"
  },
  "language_info": {
   "codemirror_mode": {
    "name": "ipython",
    "version": 3
   },
   "file_extension": ".py",
   "mimetype": "text/x-python",
   "name": "python",
   "nbconvert_exporter": "python",
   "pygments_lexer": "ipython3",
   "version": "3.7.4"
  }
 },
 "nbformat": 4,
 "nbformat_minor": 4
}
