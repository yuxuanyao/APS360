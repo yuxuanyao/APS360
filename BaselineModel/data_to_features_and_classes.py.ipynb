{
 "cells": [
  {
   "cell_type": "code",
   "execution_count": 29,
   "metadata": {
    "scrolled": false
   },
   "outputs": [],
   "source": [
    "import pandas as pd \n",
    "\n",
    "training = pd.read_csv('../Data/training.csv', usecols=[\"emotion\", \"image\",\" pixels\"])\n",
    "validation = pd.read_csv('../Data/validation.csv', usecols=[\"emotion\", \"image\",\" pixels\"])\n",
    "test = pd.read_csv('../Data/test.csv', usecols=[\"emotion\", \"image\",\" pixels\"])"
   ]
  },
  {
   "cell_type": "code",
   "execution_count": 35,
   "metadata": {},
   "outputs": [],
   "source": [
    "import numpy as np\n",
    "from matplotlib import image\n",
    "from skimage.feature import hog\n",
    "\n",
    "\"\"\"\n",
    "Transforms the imgs in the training/testing/validation dataset and saves them as npy\n",
    "\n",
    "Arguments:\n",
    "dataset: 'train', 'test', or 'validate'\n",
    "num_imgs: number of imgs/pixels in the csv dataset\n",
    "\n",
    "\"\"\"\n",
    "\n",
    "def resize_and_flip(dataset, num_imgs):\n",
    "    hog_features = []\n",
    "    emotion_classes = []\n",
    "    \n",
    "    if dataset=='test':\n",
    "        df = test\n",
    "    elif dataset=='validate':\n",
    "        df = validation\n",
    "    elif dataset=='train':\n",
    "        df = training\n",
    "    else:\n",
    "        print(\"ERR: dataset input is incorrect\")\n",
    "        return\n",
    "    \n",
    "    for i in range(0, num_imgs):\n",
    "        img_pixels = df.iloc[i][\" pixels\"]\n",
    "        \n",
    "        # if images are jpg \n",
    "        if type(img_pixels) is float:\n",
    "            imgpath = '../Data/MuxspaceDataset/images/'\n",
    "            img_pixels = image.imread(imgpath + str(df.iloc[i][\"image\"]))   # load image as pixel array\n",
    "            img_data = np.asarray(np.resize(img_pixels, (1,48,48)), dtype=np.float64)\n",
    "            img_data_flipped = np.fliplr(img_data)\n",
    "           \n",
    "        # if images are pixels\n",
    "        else:\n",
    "            img_pixels = df.iloc[i][\" pixels\"]\n",
    "            img_string = img_pixels.split(' ')\n",
    "            img_data = np.asarray(img_string, dtype=np.float64).reshape(1,48, 48)\n",
    "            img_data_flipped = np.fliplr(img_data)\n",
    "        \n",
    "        features, _ = hog(img_data, orientations=8, pixels_per_cell=(16, 16), cells_per_block=(1, 1), visualize=True)\n",
    "        hog_features.append(features)\n",
    "        emotion_classes.append(df.iloc[i][\"emotion\"])\n",
    "        \n",
    "        features, _ = hog(img_data_flipped, orientations=8, pixels_per_cell=(16, 16), cells_per_block=(1, 1), visualize=True)\n",
    "        hog_features.append(features)\n",
    "        emotion_classes.append(df.iloc[i][\"emotion\"])\n",
    "    \n",
    "    master_path = './ProcessedData/' + str(dataset)\n",
    "    np.save(master_path + '/hog_features.npy', hog_features)\n",
    "    np.save(master_path + '/emotion_classes.npy', emotion_classes)"
   ]
  },
  {
   "cell_type": "code",
   "execution_count": null,
   "metadata": {},
   "outputs": [],
   "source": [
    "resize_and_flip(dataset='train', num_imgs=3696)\n",
    "resize_and_flip(dataset='validate', num_imgs=791)\n",
    "resize_and_flip(dataset='test', num_imgs=798)"
   ]
  },
  {
   "cell_type": "code",
   "execution_count": null,
   "metadata": {},
   "outputs": [],
   "source": []
  }
 ],
 "metadata": {
  "kernelspec": {
   "display_name": "Python 3",
   "language": "python",
   "name": "python3"
  },
  "language_info": {
   "codemirror_mode": {
    "name": "ipython",
    "version": 3
   },
   "file_extension": ".py",
   "mimetype": "text/x-python",
   "name": "python",
   "nbconvert_exporter": "python",
   "pygments_lexer": "ipython3",
   "version": "3.7.4"
  }
 },
 "nbformat": 4,
 "nbformat_minor": 4
}
