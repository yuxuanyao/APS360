{
 "cells": [
  {
   "cell_type": "code",
   "execution_count": 2,
   "metadata": {
    "scrolled": false
   },
   "outputs": [],
   "source": [
    "import pandas as pd \n",
    "\n",
    "training = pd.read_csv('../Data/training.csv', usecols=[\"emotion\", \"image\",\" pixels\"])\n",
    "validation = pd.read_csv('../Data/validation.csv', usecols=[\"emotion\", \"image\",\" pixels\"])\n",
    "test = pd.read_csv('../Data/test.csv', usecols=[\"emotion\", \"image\",\" pixels\"])"
   ]
  },
  {
   "cell_type": "code",
   "execution_count": 3,
   "metadata": {},
   "outputs": [],
   "source": [
    "import numpy as np\n",
    "from matplotlib import image\n",
    "from skimage.feature import hog\n",
    "import matplotlib.pyplot as plt\n",
    "import cv2\n",
    "\n",
    "\"\"\"\n",
    "Transforms the imgs in the training/testing/validation dataset and saves them as npy\n",
    "\n",
    "Arguments:\n",
    "dataset: 'train', 'test', or 'validate'\n",
    "num_imgs: number of imgs/pixels in the csv dataset\n",
    "\n",
    "\"\"\"\n",
    "\n",
    "def resize_and_flip(dataset, num_imgs):\n",
    "    hog_features = []\n",
    "    emotion_classes = []\n",
    "    \n",
    "    if dataset=='test':\n",
    "        df = test\n",
    "    elif dataset=='validate':\n",
    "        df = validation\n",
    "    elif dataset=='train':\n",
    "        df = training\n",
    "    else:\n",
    "        print(\"ERR: dataset input is incorrect\")\n",
    "        return\n",
    "    \n",
    "    for i in range(0, num_imgs):\n",
    "        img_pixels = df.iloc[i][\" pixels\"]\n",
    "        \n",
    "        # if images are jpg \n",
    "        if type(img_pixels) is float:\n",
    "            imgpath = '../Data/MuxspaceDataset/images/'\n",
    "            img_pixels = image.imread(imgpath + str(df.iloc[i][\"image\"]))   # load image as pixel array\n",
    "            img_data = cv2.resize(img_pixels, dsize=(48, 48), interpolation=cv2.INTER_CUBIC)\n",
    "            img_data_flipped = np.fliplr(img_data)\n",
    "           \n",
    "        # if images are pixels\n",
    "        else:\n",
    "            img_pixels = df.iloc[i][\" pixels\"]\n",
    "            img_string = img_pixels.split(' ')\n",
    "            img_data = np.asarray(img_string, dtype=np.uint8).reshape(48, 48)\n",
    "            img_data_flipped = np.fliplr(img_data)\n",
    "        \n",
    "        features, hog_img = hog(img_data, orientations=8, pixels_per_cell=(16, 16), cells_per_block=(1, 1), visualize=True)\n",
    "        hog_features.append(features)\n",
    "        emotion_classes.append(df.iloc[i][\"emotion\"])\n",
    "        \n",
    "        features, hog_img = hog(img_data_flipped, orientations=8, pixels_per_cell=(16, 16), cells_per_block=(1, 1), visualize=True)\n",
    "        hog_features.append(features)\n",
    "        emotion_classes.append(df.iloc[i][\"emotion\"])\n",
    "    \n",
    "    master_path = './ProcessedData/' + str(dataset)\n",
    "    np.save(master_path + '/hog_features.npy', hog_features)\n",
    "    np.save(master_path + '/emotion_classes.npy', emotion_classes)"
   ]
  },
  {
   "cell_type": "code",
   "execution_count": 4,
   "metadata": {
    "scrolled": true
   },
   "outputs": [],
   "source": [
    "resize_and_flip(dataset='train', num_imgs=3696)\n",
    "resize_and_flip(dataset='validate', num_imgs=791)\n",
    "resize_and_flip(dataset='test', num_imgs=798)"
   ]
  },
  {
   "cell_type": "code",
   "execution_count": 5,
   "metadata": {},
   "outputs": [
    {
     "name": "stdout",
     "output_type": "stream",
     "text": [
      "(72,)\n"
     ]
    },
    {
     "data": {
      "image/png": "[encoded data removed]",
      "text/plain": [
       "<Figure size 432x288 with 1 Axes>"
      ]
     },
     "metadata": {
      "needs_background": "light"
     },
     "output_type": "display_data"
    }
   ],
   "source": [
    "from PIL import Image\n",
    "\n",
    "imgpath = '../Data/MuxspaceDataset/images/'\n",
    "img_pixels = image.imread(imgpath + str(training.iloc[3695][\"image\"]))   # load image as pixel array\n",
    "img_data = cv2.resize(img_pixels, dsize=(48, 48), interpolation=cv2.INTER_CUBIC)\n",
    "img_data_flipped = np.fliplr(img_data)\n",
    "\n",
    "Image.fromarray(img_data)\n",
    "\n",
    "features, hog_img = hog(img_data, orientations=8, pixels_per_cell=(16, 16), cells_per_block=(1, 1), visualize=True)\n",
    "plt.imshow(hog_img)\n",
    "print(features.shape)"
   ]
  },
  {
   "cell_type": "code",
   "execution_count": 11,
   "metadata": {},
   "outputs": [
    {
     "data": {
      "image/png": "[encoded data removed]",
      "text/plain": [
       "<Figure size 576x288 with 2 Axes>"
      ]
     },
     "metadata": {
      "needs_background": "light"
     },
     "output_type": "display_data"
    },
    {
     "name": "stdout",
     "output_type": "stream",
     "text": [
      "Number of features: (72,)\n"
     ]
    }
   ],
   "source": [
    "import matplotlib.pyplot as plt\n",
    "from skimage import data, exposure\n",
    "\n",
    "image = Image.fromarray(img_data)\n",
    "\n",
    "fig, (ax1, ax2) = plt.subplots(1, 2, figsize=(8, 4), sharex=True, sharey=True)\n",
    "\n",
    "ax1.axis('off')\n",
    "ax1.imshow(image, cmap=plt.cm.gray)\n",
    "ax1.set_title('Input')\n",
    "\n",
    "hog_image_rescaled = exposure.rescale_intensity(hog_img, in_range=(0, 10))\n",
    "\n",
    "ax2.axis('off')\n",
    "ax2.imshow(hog_image_rescaled, cmap=plt.cm.gray)\n",
    "ax2.set_title('Output')\n",
    "plt.show()\n",
    "print(\"Number of features:\", features.shape)"
   ]
  },
  {
   "cell_type": "code",
   "execution_count": 9,
   "metadata": {},
   "outputs": [
    {
     "name": "stdout",
     "output_type": "stream",
     "text": [
      "(72,)\n"
     ]
    },
    {
     "data": {
      "image/png": "[encoded data removed]",
      "text/plain": [
       "<Figure size 432x288 with 1 Axes>"
      ]
     },
     "metadata": {
      "needs_background": "light"
     },
     "output_type": "display_data"
    }
   ],
   "source": [
    "img_pixels = training.iloc[0][\" pixels\"]\n",
    "img_string = img_pixels.split(' ')\n",
    "img_data = np.asarray(img_string, dtype=np.uint8).reshape(48, 48)\n",
    "img_data_flipped = np.fliplr(img_data)\n",
    "\n",
    "Image.fromarray(img_data)\n",
    "\n",
    "features, hog_img = hog(img_data, orientations=8, pixels_per_cell=(16, 16), cells_per_block=(1, 1), visualize=True)\n",
    "plt.imshow(hog_img)\n",
    "print(features.shape)"
   ]
  },
  {
   "cell_type": "code",
   "execution_count": null,
   "metadata": {},
   "outputs": [],
   "source": []
  }
 ],
 "metadata": {
  "kernelspec": {
   "display_name": "Python 3",
   "language": "python",
   "name": "python3"
  },
  "language_info": {
   "codemirror_mode": {
    "name": "ipython",
    "version": 3
   },
   "file_extension": ".py",
   "mimetype": "text/x-python",
   "name": "python",
   "nbconvert_exporter": "python",
   "pygments_lexer": "ipython3",
   "version": "3.7.4"
  }
 },
 "nbformat": 4,
 "nbformat_minor": 4
}
