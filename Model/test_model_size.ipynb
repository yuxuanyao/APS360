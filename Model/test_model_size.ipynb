{
 "cells": [
  {
   "cell_type": "code",
   "execution_count": 21,
   "metadata": {},
   "outputs": [],
   "source": [
    "import torch\n",
    "import torch.nn as nn\n",
    "import torch.nn.functional as F\n",
    "import torchvision\n",
    "import torchvision.models as models"
   ]
  },
  {
   "cell_type": "code",
   "execution_count": 24,
   "metadata": {},
   "outputs": [
    {
     "name": "stdout",
     "output_type": "stream",
     "text": [
      "torch.Size([1, 48, 48])\n",
      "torch.Size([1])\n",
      "torch.Size([1, 1, 48, 48])\n",
      "torch.Size([1, 3, 48, 48])\n"
     ]
    }
   ],
   "source": [
    "master_path = '../Data/ProcessedData/train/'\n",
    "dataset = torchvision.datasets.DatasetFolder(master_path, loader=torch.load, extensions=('.tensor'))\n",
    "\n",
    "batch_size = 1\n",
    "num_workers = 1\n",
    "test_loader = torch.utils.data.DataLoader(dataset, batch_size=batch_size, \n",
    "                                           num_workers=num_workers, shuffle=True)\n",
    "\n",
    "dataiter = iter(test_loader)\n",
    "img, labels = dataiter.next()\n",
    "print(img.shape)\n",
    "print(labels.shape)\n",
    "\n",
    "# require the number of channels\n",
    "img = img.unsqueeze(1)\n",
    "print(img.shape)\n",
    "\n",
    "# increase the number of channels to rgb (what resnet expects)\n",
    "img = img.repeat(1, 3, 1, 1)\n",
    "print(img.shape)"
   ]
  },
  {
   "cell_type": "code",
   "execution_count": 9,
   "metadata": {},
   "outputs": [],
   "source": [
    "resnet50 = models.resnet50()"
   ]
  },
  {
   "cell_type": "code",
   "execution_count": 10,
   "metadata": {},
   "outputs": [
    {
     "data": {
      "text/plain": [
       "torch.Size([1, 1000])"
      ]
     },
     "execution_count": 10,
     "metadata": {},
     "output_type": "execute_result"
    }
   ],
   "source": [
    "# maybe need to use a normalized tensor here\n",
    "# don't need to use .float() if normalized\n",
    "features = resnet50(img.float())\n",
    "\n",
    "# flattened the image already\n",
    "features.shape"
   ]
  },
  {
   "cell_type": "code",
   "execution_count": 27,
   "metadata": {},
   "outputs": [],
   "source": [
    "class EmotionClassifier(nn.Module):\n",
    "    def __init__(self):\n",
    "        super(EmotionClassifier, self).__init__()\n",
    "        self.name = 'emotion_classifier'\n",
    "        self.fc1 = nn.Linear(1000, 100)\n",
    "        self.fc2 = nn.Linear(100, 7)\n",
    "    def forward(self, x):\n",
    "        x = F.relu(self.fc1(x))\n",
    "        x = self.fc2(x)\n",
    "        \n",
    "        # assuming we're going to use CrossEntropyLoss, we don't need softmax here\n",
    "        return x"
   ]
  },
  {
   "cell_type": "code",
   "execution_count": 28,
   "metadata": {},
   "outputs": [
    {
     "name": "stdout",
     "output_type": "stream",
     "text": [
      "torch.Size([1, 7])\n",
      "tensor([[ 0.1354,  0.0123,  0.0318, -0.1043,  0.1115,  0.2784, -0.2744]],\n",
      "       grad_fn=<AddmmBackward>)\n"
     ]
    }
   ],
   "source": [
    "emotionClassifier = EmotionClassifier()\n",
    "out = emotionClassifier(features)\n",
    "\n",
    "# apply classification on this!\n",
    "print(out.shape)\n",
    "print(out)"
   ]
  }
 ],
 "metadata": {
  "kernelspec": {
   "display_name": "Python 3",
   "language": "python",
   "name": "python3"
  },
  "language_info": {
   "codemirror_mode": {
    "name": "ipython",
    "version": 3
   },
   "file_extension": ".py",
   "mimetype": "text/x-python",
   "name": "python",
   "nbconvert_exporter": "python",
   "pygments_lexer": "ipython3",
   "version": "3.6.10"
  }
 },
 "nbformat": 4,
 "nbformat_minor": 2
}
