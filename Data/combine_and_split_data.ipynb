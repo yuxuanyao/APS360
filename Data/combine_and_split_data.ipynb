{
 "cells": [
  {
   "cell_type": "code",
   "execution_count": 52,
   "metadata": {},
   "outputs": [
    {
     "name": "stdout",
     "output_type": "stream",
     "text": [
      "(13681, 2)\n",
      "(35887, 2)\n"
     ]
    }
   ],
   "source": [
    "import pandas as pd\n",
    "\n",
    "mux = pd.read_csv(\"./MuxspaceDataset/data/new_legend.csv\", usecols=[\"emotion\", \"image\"])\n",
    "fer = pd.read_csv(\"./KaggleFERDataset/icml_face_data.csv\", usecols=[\"emotion\", \" pixels\"])\n",
    "\n",
    "print(mux.shape)\n",
    "print(fer.shape)"
   ]
  },
  {
   "cell_type": "code",
   "execution_count": 53,
   "metadata": {},
   "outputs": [
    {
     "data": {
      "text/plain": [
       "(49568, 3)"
      ]
     },
     "execution_count": 53,
     "metadata": {},
     "output_type": "execute_result"
    }
   ],
   "source": [
    "combined = pd.DataFrame(columns=[\"emotion\", \"image\",\" pixels\"])\n",
    "combined = combined.append(mux)\n",
    "combined = combined.append(fer)\n",
    "combined.shape"
   ]
  },
  {
   "cell_type": "code",
   "execution_count": 54,
   "metadata": {},
   "outputs": [
    {
     "data": {
      "text/plain": [
       "3    14685\n",
       "6    13066\n",
       "4     6345\n",
       "0     5205\n",
       "2     5142\n",
       "5     4370\n",
       "1      755\n",
       "Name: emotion, dtype: int64"
      ]
     },
     "execution_count": 54,
     "metadata": {},
     "output_type": "execute_result"
    }
   ],
   "source": [
    "combined[\"emotion\"].value_counts()"
   ]
  },
  {
   "cell_type": "code",
   "execution_count": 55,
   "metadata": {
    "scrolled": true
   },
   "outputs": [
    {
     "name": "stdout",
     "output_type": "stream",
     "text": [
      "(3696, 3)\n",
      "(791, 3)\n",
      "(798, 3)\n"
     ]
    }
   ],
   "source": [
    "\"\"\"\n",
    "To ensure equal number of samples, use 755 as total\n",
    "\"\"\"\n",
    "emotions = [combined[combined.emotion == 0], combined[combined.emotion == 1], combined[combined.emotion == 2], \n",
    "           combined[combined.emotion == 3], combined[combined.emotion == 4], combined[combined.emotion == 5],\n",
    "           combined[combined.emotion == 6]]\n",
    "\n",
    "training = pd.DataFrame(columns=[\"emotion\", \"image\",\" pixels\"])\n",
    "validation = pd.DataFrame(columns=[\"emotion\", \"image\",\" pixels\"])\n",
    "test = pd.DataFrame(columns=[\"emotion\", \"image\",\" pixels\"])\n",
    "\n",
    "for emotion in emotions:\n",
    "    sample = emotion.sample(n=755, random_state=1)\n",
    "    training = training.append(sample[:int(0.7*sample.shape[0])])\n",
    "    valid_and_test = sample[int(0.7*sample.shape[0]):]\n",
    "    validation = validation.append(valid_and_test[:int(0.5*valid_and_test.shape[0])])\n",
    "    test = test.append(valid_and_test[int(0.5*valid_and_test.shape[0]):])\n",
    "\n",
    "print(training.shape)\n",
    "print(validation.shape)\n",
    "print(test.shape)"
   ]
  },
  {
   "cell_type": "code",
   "execution_count": 56,
   "metadata": {},
   "outputs": [],
   "source": [
    "training.to_csv('./training.csv',index=False)\n",
    "validation.to_csv('./validation.csv', index=False)\n",
    "test.to_csv('./test.csv', index=False)"
   ]
  },
  {
   "cell_type": "code",
   "execution_count": 57,
   "metadata": {},
   "outputs": [
    {
     "data": {
      "image/png": "[encoded data removed]",
      "text/plain": [
       "<PIL.Image.Image image mode=L size=48x48 at 0x1E3134BC520>"
      ]
     },
     "execution_count": 57,
     "metadata": {},
     "output_type": "execute_result"
    }
   ],
   "source": [
    "\"\"\"\n",
    "The following are examples for applying transformations to pixel values:\n",
    "1. Resize image\n",
    "\"\"\"\n",
    "from PIL import Image\n",
    "import numpy as np\n",
    "\n",
    "image_pixels = fer.iloc[0][\" pixels\"]\n",
    "image_string = image_pixels.split(' ')\n",
    "image_data = np.asarray(image_string, dtype=np.uint8).reshape(48, 48)\n",
    "Image.fromarray(image_data)"
   ]
  },
  {
   "cell_type": "code",
   "execution_count": 58,
   "metadata": {},
   "outputs": [
    {
     "data": {
      "image/png": "[encoded data removed]",
      "text/plain": [
       "<PIL.Image.Image image mode=L size=48x48 at 0x1E3134BC3A0>"
      ]
     },
     "execution_count": 58,
     "metadata": {},
     "output_type": "execute_result"
    }
   ],
   "source": [
    "\"\"\"\n",
    "2. Flip image along vertical axis\n",
    "\"\"\"\n",
    "Image.fromarray(np.fliplr(image_data))"
   ]
  },
  {
   "cell_type": "code",
   "execution_count": 60,
   "metadata": {},
   "outputs": [
    {
     "name": "stdout",
     "output_type": "stream",
     "text": [
      "48\n"
     ]
    }
   ],
   "source": [
    "\"\"\"\n",
    "Load image and label to dataloader\n",
    "\"\"\"\n",
    "\n",
    "import torch\n",
    "\n",
    "train_data = []\n",
    "print(len(image_data))\n",
    "for i in range(len(image_data)):\n",
    "    train_data.append([image_data[i], \"label\"])\n",
    "\n",
    "trainloader = torch.utils.data.DataLoader(train_data, batch_size=100)\n",
    "image, label = next(iter(trainloader))"
   ]
  }
 ],
 "metadata": {
  "kernelspec": {
   "display_name": "Python 3",
   "language": "python",
   "name": "python3"
  },
  "language_info": {
   "codemirror_mode": {
    "name": "ipython",
    "version": 3
   },
   "file_extension": ".py",
   "mimetype": "text/x-python",
   "name": "python",
   "nbconvert_exporter": "python",
   "pygments_lexer": "ipython3",
   "version": "3.8.3"
  }
 },
 "nbformat": 4,
 "nbformat_minor": 4
}
